{
 "cells": [
  {
   "cell_type": "code",
   "execution_count": null,
   "id": "cellular-debate",
   "metadata": {},
   "outputs": [],
   "source": [
    "import numpy as np\n",
    "import igl\n",
    "import meshplot as mp\n",
    "from scipy.spatial.transform import Rotation\n",
    "import ipywidgets as iw\n",
    "import time\n"
   ]
  },
  {
   "cell_type": "code",
   "execution_count": null,
   "id": "whole-grenada",
   "metadata": {},
   "outputs": [],
   "source": [
    "v, f = igl.read_triangle_mesh('data/hand.off')\n",
    "labels = np.load('hand_label.npy').astype(int)"
   ]
  },
  {
   "cell_type": "code",
   "execution_count": null,
   "id": "continued-captain",
   "metadata": {},
   "outputs": [],
   "source": [
    "v_targ = v.copy()\n",
    "\n",
    "pos_f_saver = np.zeros((labels.max() + 1, 6))\n",
    "def pos_f(s,x,y,z, α, β, γ):\n",
    "    slices = (labels==s)\n",
    "    r = Rotation.from_euler('xyz', [α, β, γ], degrees=True)\n",
    "    v_slice = v[slices] + np.array([[x,y,z]])\n",
    "    center = v_slice.mean(axis=0)\n",
    "    v_targ[slices] = r.apply(v_slice - center) + center\n",
    "    pos_f_saver[s - 1] = [x,y,z,α,β,γ]\n",
    "    ## Computation Within\n",
    "    t0 = time.time()\n",
    "    v_deformed = pos_f.deformer(v_targ)\n",
    "    \n",
    "    p.update_object(vertices = v_deformed)\n",
    "    t1 = time.time()\n",
    "    print('FPS', 1/(t1 - t0))\n",
    "pos_f.deformer = lambda x:x\n",
    "segment_widget = iw.Dropdown(options=np.arange(labels.max()) + 1)\n",
    "translate_widget = {i:iw.FloatSlider(min=-30, max=30, value=0) \n",
    "                    for i in 'xyz'}\n",
    "rotate_widget = {a:iw.FloatSlider(min=-90, max=90, value=0, step=1) \n",
    "                 for a in 'αβγ'}\n",
    "\n",
    "def update_seg(*args):\n",
    "    (translate_widget['x'].value,translate_widget['y'].value,\n",
    "    translate_widget['z'].value,\n",
    "    rotate_widget['α'].value,rotate_widget['β'].value,\n",
    "    rotate_widget['γ'].value) = pos_f_saver[segment_widget.value]\n",
    "segment_widget.observe(update_seg, 'value')\n",
    "\n",
    "p = mp.plot(v_targ, f, c=labels)\n",
    "iw.interact(pos_f,\n",
    "            s = segment_widget,\n",
    "            **translate_widget,\n",
    "            **rotate_widget)"
   ]
  },
  {
   "cell_type": "code",
   "execution_count": null,
   "id": "growing-cherry",
   "metadata": {},
   "outputs": [],
   "source": []
  }
 ],
 "metadata": {
  "kernelspec": {
   "display_name": "Python 3",
   "language": "python",
   "name": "python3"
  },
  "language_info": {
   "codemirror_mode": {
    "name": "ipython",
    "version": 3
   },
   "file_extension": ".py",
   "mimetype": "text/x-python",
   "name": "python",
   "nbconvert_exporter": "python",
   "pygments_lexer": "ipython3",
   "version": "3.8.3"
  }
 },
 "nbformat": 4,
 "nbformat_minor": 5
}
